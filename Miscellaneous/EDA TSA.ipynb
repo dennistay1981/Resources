{
  "nbformat": 4,
  "nbformat_minor": 0,
  "metadata": {
    "colab": {
      "provenance": [],
      "authorship_tag": "ABX9TyNDRiZ0LLcoL4QIV339KopE",
      "include_colab_link": true
    },
    "kernelspec": {
      "name": "python3",
      "display_name": "Python 3"
    },
    "language_info": {
      "name": "python"
    }
  },
  "cells": [
    {
      "cell_type": "markdown",
      "metadata": {
        "id": "view-in-github",
        "colab_type": "text"
      },
      "source": [
        "<a href=\"https://colab.research.google.com/github/dennistay1981/Resources/blob/main/Miscellaneous/EDA%20TSA.ipynb\" target=\"_parent\"><img src=\"https://colab.research.google.com/assets/colab-badge.svg\" alt=\"Open In Colab\"/></a>"
      ]
    },
    {
      "cell_type": "markdown",
      "source": [
        "Import libraries"
      ],
      "metadata": {
        "id": "pmaEdx7CxhkJ"
      }
    },
    {
      "cell_type": "code",
      "execution_count": null,
      "metadata": {
        "id": "SiJcZGmcqjU0"
      },
      "outputs": [],
      "source": [
        "!pip install pmdarima\n",
        "import pandas as pd\n",
        "import seaborn as sns\n",
        "import matplotlib.pyplot as plt\n",
        "import numpy as np\n",
        "from statsmodels.tsa.stattools import acf, pacf\n",
        "from statsmodels.graphics.tsaplots import plot_acf, plot_pacf\n",
        "from pmdarima import auto_arima\n",
        "from sklearn.metrics import mean_absolute_percentage_error\n",
        "from sklearn.metrics import r2_score\n",
        "from sklearn.preprocessing import MinMaxScaler"
      ]
    },
    {
      "cell_type": "markdown",
      "source": [
        "Import, scale, resample, and plot data"
      ],
      "metadata": {
        "id": "3RfolwMPxbx5"
      }
    },
    {
      "cell_type": "code",
      "source": [
        "#Import data\n",
        "data = pd.read_csv('test.csv', index_col='Time')\n",
        "#data.index = pd.to_datetime(data.index)\n",
        "\n",
        "\n",
        "#Scale data\n",
        "scaler = MinMaxScaler()\n",
        "data['scaled'] = scaler.fit_transform(data['SCL'].values.reshape(-1, 1))\n",
        "\n",
        "#Resample data by seconds\n",
        "#series = data['scaled'].resample('s').mean()\n",
        "series = data['scaled']\n",
        "\n",
        "# Plot data\n",
        "plt.figure(figsize=(12, 6))\n",
        "plt.plot(series)\n",
        "plt.title('Resampled Data (Seconds)')\n",
        "plt.show()\n"
      ],
      "metadata": {
        "collapsed": true,
        "id": "j8tBv8mBqwNH"
      },
      "execution_count": null,
      "outputs": []
    },
    {
      "cell_type": "markdown",
      "source": [
        "Compute and plot (P)ACF"
      ],
      "metadata": {
        "id": "4DfpPe3qxKzR"
      }
    },
    {
      "cell_type": "code",
      "source": [
        "lag_acf = acf(series, nlags=20)\n",
        "lag_pacf = pacf(series, nlags=20, method='ols')\n",
        "\n",
        "\n",
        "plt.figure(figsize=(12, 6))\n",
        "plt.subplot(121)\n",
        "plot_acf(series, lags=20, ax=plt.gca())\n",
        "plt.subplot(122)\n",
        "plot_pacf(series, lags=20, method='ols', ax=plt.gca())\n",
        "plt.title('(P)ACF for XXX condition (XXX.csv)')\n",
        "plt.show()"
      ],
      "metadata": {
        "id": "1vX9s7_irF6J",
        "collapsed": true
      },
      "execution_count": null,
      "outputs": []
    },
    {
      "cell_type": "markdown",
      "source": [
        "Auto fit best ARIMA model"
      ],
      "metadata": {
        "id": "wlHR5UCsxDq5"
      }
    },
    {
      "cell_type": "code",
      "source": [
        "model = auto_arima(series, start_p=0, start_q=0, test='adf', max_p=3, max_q=3, d=None,seasonal=True,\n",
        "                      start_P=0, D=None, trace=True,  error_action='ignore', suppress_warnings=True,\n",
        "                      stepwise=True)\n",
        "\n",
        "\n",
        "print(model.summary())"
      ],
      "metadata": {
        "collapsed": true,
        "id": "B6aRdncUswSi"
      },
      "execution_count": null,
      "outputs": []
    },
    {
      "cell_type": "markdown",
      "source": [
        "Plot data vs. predictions and evaluate model"
      ],
      "metadata": {
        "id": "j9LA-Tvow52C"
      }
    },
    {
      "cell_type": "code",
      "source": [
        "predictions = model.predict_in_sample()\n",
        "#Create axes\n",
        "x1 =np.arange(0, len(series))\n",
        "x3= np.arange(0, len(series))\n",
        "\n",
        "plt.plot(x3,series, label=\"actual\", color='dodgerblue')\n",
        "plt.plot(x1,predictions, label=\"predictions\",color='orange')\n",
        "plt.axhline(y=series.mean(), color='dodgerblue', linestyle='--', label='actual mean')\n",
        "plt.axhline(y=predictions.mean(), color='orange', linestyle='--', label='predictions mean')\n",
        "plt.legend()\n",
        "plt.title('Actual vs. predicted for XXX condition (XXX.csv)')\n",
        "plt.show()\n",
        "\n",
        "\n",
        "print(\"RMSE:\", np.sqrt(np.mean((series -predictions) ** 2)))\n",
        "print(\"MAPE:\", mean_absolute_percentage_error(series, predictions) )\n",
        "print(\"R2:\", r2_score(series, predictions))\n",
        "print(\"AIC:\", model.aic())"
      ],
      "metadata": {
        "id": "JMqEMUYQtWRK"
      },
      "execution_count": null,
      "outputs": []
    },
    {
      "cell_type": "markdown",
      "source": [
        "Remove first value of series and predictions if the latter is zero, and then replot/re-evaluate"
      ],
      "metadata": {
        "id": "Lh9RePv5CYOu"
      }
    },
    {
      "cell_type": "code",
      "source": [
        "predictions = predictions[1:]\n",
        "series = series[1:]\n",
        "\n",
        "\n",
        "x1 =np.arange(0, len(series))\n",
        "x3= np.arange(0, len(series))\n",
        "\n",
        "plt.plot(x3,series, label=\"actual\", color='dodgerblue')\n",
        "plt.plot(x1,predictions, label=\"predictions\",color='orange')\n",
        "plt.axhline(y=series.mean(), color='dodgerblue', linestyle='--', label='actual mean')\n",
        "plt.axhline(y=predictions.mean(), color='orange', linestyle='--', label='predictions mean')\n",
        "plt.legend()\n",
        "plt.title('Actual vs. predicted for XXX condition (XXX.csv)')\n",
        "plt.show()\n",
        "\n",
        "\n",
        "print(\"RMSE:\", np.sqrt(np.mean((series -predictions) ** 2)))\n",
        "print(\"MAPE:\", mean_absolute_percentage_error(series, predictions) )\n",
        "print(\"R2:\", r2_score(series, predictions))\n",
        "print(\"AIC:\", model.aic())"
      ],
      "metadata": {
        "id": "x-AingjmCFtC"
      },
      "execution_count": null,
      "outputs": []
    },
    {
      "cell_type": "markdown",
      "source": [
        "Train-test approach to diagnose overfitting"
      ],
      "metadata": {
        "id": "InLDRTduS18V"
      }
    },
    {
      "cell_type": "code",
      "source": [
        "series_train = series[:int(len(series) * 0.8)]\n",
        "series_test = series[int(len(series) * 0.8):]\n",
        "\n",
        "\n",
        "model = auto_arima(series_train, start_p=0, start_q=0, test='adf', max_p=3, max_q=3, d=None,seasonal=True,\n",
        "                      start_P=0, D=None, trace=True,  error_action='ignore', suppress_warnings=True,\n",
        "                      stepwise=True)\n",
        "\n",
        "\n",
        "print(model.summary())"
      ],
      "metadata": {
        "id": "f8v4YZSVS1Cg"
      },
      "execution_count": null,
      "outputs": []
    },
    {
      "cell_type": "code",
      "source": [
        "#Predict on train and test sets\n",
        "predictions_train = model.predict_in_sample()\n",
        "predictions_test = model.predict(n_periods=len(series_test))\n",
        "\n",
        "\n",
        "\n",
        "# Plotting and evaluation for train set\n",
        "plt.figure(figsize=(12, 6))\n",
        "plt.plot(series_train, label=\"Actual Train\")\n",
        "plt.plot(predictions_train, label=\"Predicted Train\")\n",
        "plt.legend()\n",
        "plt.title(\"Actual vs. Predicted (Train)\")\n",
        "plt.show()\n",
        "\n",
        "rmse_train = np.sqrt(np.mean((series_train - predictions_train) ** 2))\n",
        "mape_train = mean_absolute_percentage_error(series_train, predictions_train)\n",
        "print(\"Train RMSE:\", rmse_train)\n",
        "print(\"Train MAPE:\", mape_train)\n",
        "\n",
        "\n",
        "# Plotting and evaluation for test set\n",
        "plt.scatter(series_test, predictions_test)\n",
        "plt.title(\"Actual vs. Predicted (Test)\")\n",
        "plt.show()\n",
        "\n",
        "#plt.figure(figsize=(12, 6))\n",
        "#plt.plot(series_test, label=\"Actual Test\")\n",
        "#plt.plot(predictions_test, label=\"Predicted Test\")\n",
        "#plt.legend()\n",
        "#plt.title(\"Actual vs. Predicted (Test)\")\n",
        "#plt.show()\n",
        "\n",
        "rmse_test = np.sqrt(np.mean((series_test - predictions_test) ** 2))\n",
        "mape_test = mean_absolute_percentage_error(series_test, predictions_test)\n",
        "print(\"Test RMSE:\", rmse_test)\n",
        "print(\"Test MAPE:\", mape_test)"
      ],
      "metadata": {
        "id": "nVr6pW01TNvP"
      },
      "execution_count": null,
      "outputs": []
    },
    {
      "cell_type": "markdown",
      "source": [
        "Compare with SARIMAX (optional)"
      ],
      "metadata": {
        "id": "MoWS8go5MZaR"
      }
    },
    {
      "cell_type": "code",
      "source": [
        "import statsmodels.api as sm\n",
        "\n",
        "model=sm.tsa.SARIMAX(series,order=(1,1,2),seasonal_order = (0,0,0,0), trend='c').fit()   #seasonal_order = (P, D, Q, m)\n",
        "model.summary()\n",
        "\n",
        "\n",
        "#Predict\n",
        "predictions=model.predict(start=0, end=len(series)-1)\n",
        "\n",
        "#Create axes\n",
        "x1 =np.arange(0, len(series))\n",
        "x3= np.arange(0, len(series))\n",
        "\n",
        "plt.plot(x3,series, label=\"actual\", color='dodgerblue')\n",
        "plt.plot(x1,predictions, label=\"predictions\",color='orange')\n",
        "plt.legend()\n",
        "plt.title('Actual vs. predicted for XXX condition (XXX.csv)')\n",
        "plt.show()\n",
        "\n",
        "\n",
        "print(\"RMSE:\", np.sqrt(np.mean((series -predictions) ** 2)))\n",
        "print(\"MAPE:\", mean_absolute_percentage_error(series, predictions) )\n",
        "print(\"R2:\", r2_score(series, predictions))\n",
        "print(\"AIC:\", model.aic())"
      ],
      "metadata": {
        "id": "ipEvu-SiMeBS"
      },
      "execution_count": null,
      "outputs": []
    }
  ]
}