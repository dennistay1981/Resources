{
  "nbformat": 4,
  "nbformat_minor": 0,
  "metadata": {
    "colab": {
      "provenance": [],
      "authorship_tag": "ABX9TyOU66gk7fG0mrC7o5KWs+sy",
      "include_colab_link": true
    },
    "kernelspec": {
      "name": "python3",
      "display_name": "Python 3"
    },
    "language_info": {
      "name": "python"
    }
  },
  "cells": [
    {
      "cell_type": "markdown",
      "metadata": {
        "id": "view-in-github",
        "colab_type": "text"
      },
      "source": [
        "<a href=\"https://colab.research.google.com/github/dennistay1981/Resources/blob/main/Code%20and%20data%20in%20publications/Chapter%3A%20Data%20science%20approaches%20to%20metaphor%20and%20mental%20health/Data_science_approaches_to_mental_health.ipynb\" target=\"_parent\"><img src=\"https://colab.research.google.com/assets/colab-badge.svg\" alt=\"Open In Colab\"/></a>"
      ]
    },
    {
      "cell_type": "markdown",
      "source": [
        "Descriptive analytics: cross-tabulating metaphor sources and targets"
      ],
      "metadata": {
        "id": "t2i6rHdXN2MT"
      }
    },
    {
      "cell_type": "code",
      "execution_count": null,
      "metadata": {
        "id": "c3ooXfiuNxoQ",
        "collapsed": true
      },
      "outputs": [],
      "source": [
        "#Import Python libraries\n",
        "import pandas as pd\n",
        "import numpy as np\n",
        "import seaborn as sns\n",
        "import matplotlib.pyplot as plt\n",
        "from scipy.stats import chi2_contingency\n",
        "\n",
        "#Import data\n",
        "data = pd.read_csv('https://raw.githubusercontent.com/dennistay1981/Resources/refs/heads/main/Code%20and%20data%20in%20publications/Chapter%3A%20Data%20science%20approaches%20to%20metaphor%20and%20mental%20health/Descriptive.csv')\n",
        "\n",
        "# Cross-tabulation\n",
        "crosstab = pd.crosstab(data['SOURCE'], data['TARGET'])\n",
        "# Observed frequencies\n",
        "observed = crosstab.values\n",
        "# Expected frequencies\n",
        "chi2, p, dof, expected = chi2_contingency(observed)\n",
        "# Pearson's residuals\n",
        "residuals = (observed - expected) / np.sqrt(expected)\n",
        "# Cramer's V\n",
        "n = observed.sum()\n",
        "phi2 = chi2 / n\n",
        "r, k = observed.shape\n",
        "phi2corr = max(0, phi2 - ((k - 1) * (r - 1)) / (n - 1))\n",
        "rcorr = r - ((r - 1)**2) / (n - 1)\n",
        "kcorr = k - ((k - 1)**2) / (n - 1)\n",
        "cramer_v = np.sqrt(phi2corr / min((kcorr - 1), (rcorr - 1)))\n",
        "\n",
        "# Combine observed frequencies and residuals into a single DataFrame\n",
        "combined_data = pd.DataFrame(observed, index=crosstab.index, columns=crosstab.columns)\n",
        "combined_data = combined_data.astype(str) + ' (' + pd.DataFrame(residuals, index=crosstab.index, columns=crosstab.columns).round(2).astype(str) + ')'\n",
        "\n",
        "# Mark statistically significant residuals using a threshold of +-1.96 (approximately 95% confidence)\n",
        "significant_residuals = np.where(np.abs(residuals) > 1.96)\n",
        "\n",
        "for i, j in zip(*significant_residuals):\n",
        "    combined_data.iloc[i, j] = combined_data.iloc[i, j] + \"*\"\n",
        "\n",
        "\n",
        "# Calculate row and column totals\n",
        "row_totals = observed.sum(axis=1)\n",
        "col_totals = observed.sum(axis=0)\n",
        "\n",
        "# Heatmap with combined data and row/column totals\n",
        "plt.figure(figsize=(12, 8))\n",
        "ax = sns.heatmap(pd.DataFrame(residuals, index=crosstab.index, columns=crosstab.columns),  #note that, as specified, the heatmap will be colored according to the size of the residuals, but the annotations in each cell are the frequencies + residuals in brackets\n",
        "                 annot=combined_data, fmt='', cmap='Greys', center=0, cbar=True, annot_kws={\"size\": 16})\n",
        "\n",
        "\n",
        "# Annotate row totals on the right side of the heatmap\n",
        "for i, total in enumerate(row_totals):\n",
        "  ax.text(len(crosstab.columns) + 0.1, i+0.5, total, ha='center', va='center', fontsize=16, color='gray')\n",
        "\n",
        "# Annotate column totals at the bottom of the heatmap\n",
        "for j, total in enumerate(col_totals):\n",
        "  ax.text(j+0.5, len(crosstab.index) + 0.4,  total, ha='center', va='center', fontsize=16, color='gray')\n",
        "\n",
        "plt.title('Observed Frequencies and Pearson Residuals (* = statistically significant)')\n",
        "plt.xlabel('TARGET')\n",
        "plt.ylabel('SOURCE')\n",
        "plt.tight_layout()\n",
        "plt.show()\n",
        "\n",
        "# Print relevant statistics\n",
        "print(f\"Chi-square statistic: {chi2:.2f}\")\n",
        "print(f\"P-value: {p:.3f}\")\n",
        "print(f\"Degrees of freedom: {dof}\")\n",
        "print(f\"Cramer's V: {cramer_v:.3f}\")"
      ]
    },
    {
      "cell_type": "markdown",
      "source": [
        "Diagnostic (ARM)\n"
      ],
      "metadata": {
        "id": "zANJjRLCsDNu"
      }
    },
    {
      "cell_type": "code",
      "source": [
        "#Import Python libraries\n",
        "!pip install mlxtend==0.23.1  #install an earlier version to prevent bug when running association_rules\n",
        "import pandas as pd\n",
        "from mlxtend.preprocessing import TransactionEncoder\n",
        "from mlxtend.frequent_patterns import association_rules, apriori\n",
        "\n",
        "\n",
        "#Import data\n",
        "data = pd.read_csv('https://raw.githubusercontent.com/dennistay1981/Resources/refs/heads/main/Code%20and%20data%20in%20publications/Chapter%3A%20Data%20science%20approaches%20to%20metaphor%20and%20mental%20health/Diagnostic.csv')\n",
        "\n",
        "#Split ASD and non-ASD individuals into two dataframes\n",
        "data_ASD = data.loc[data['ASD']=='Y']\n",
        "data_NASD = data.loc[data['ASD']=='N']\n",
        "\n",
        "#convert transactions into lists: one for ASD, one for Non-ASD, and one for the overall dataset\n",
        "transactions_ASD = data_ASD['sources'].apply(lambda t: t.split(','))\n",
        "transactions_NASD = data_NASD['sources'].apply(lambda t: t.split(','))\n",
        "transactions_all = data['sources'].apply(lambda t: t.split(','))\n",
        "\n",
        "# Instantiate transaction encoder and identify unique items in transactions\n",
        "encoder = TransactionEncoder().fit(transactions_ASD)\n",
        "encoder2 = TransactionEncoder().fit(transactions_NASD)\n",
        "encoder3 = TransactionEncoder().fit(transactions_all)\n",
        "\n",
        "# One-hot encode transactions\n",
        "onehot_ASD = encoder.transform(transactions_ASD)\n",
        "onehot_NASD = encoder2.transform(transactions_NASD)\n",
        "onehot_all = encoder3.transform(transactions_all)\n",
        "\n",
        "# Convert one-hot encoded data to DataFrame\n",
        "onehot_ASD = pd.DataFrame(onehot_ASD, columns = encoder.columns_)\n",
        "onehot_NASD = pd.DataFrame(onehot_NASD, columns = encoder2.columns_)\n",
        "onehot_all = pd.DataFrame(onehot_all, columns = encoder3.columns_)\n",
        "\n",
        "# Compute frequent itemsets using the Apriori algorithm\n",
        "# i.e. what are the items (max length 3) that (jointly) appear in at least 5% of transactions\n",
        "frequent_itemsets_ASD = apriori(onehot_ASD, min_support = 0.05, max_len = 3, use_colnames = True)  #minimum support value, maximum itemset length to be retained\n",
        "frequent_itemsets_NASD = apriori(onehot_NASD, min_support = 0.05, max_len = 3, use_colnames = True)\n",
        "frequent_itemsets_all = apriori(onehot_all, min_support = 0.05, max_len = 3, use_colnames = True)\n",
        "\n",
        "# Compute all association rules for frequent_itemsets, limiting only to rules with support > 0.05\n",
        "# i.e. both antecedent and consequent items jointly appear in at least 5% of transactions\n",
        "rules_ASD = association_rules(frequent_itemsets_ASD, metric = \"support\", min_threshold = 0.05)\n",
        "rules_NASD = association_rules(frequent_itemsets_NASD, metric = \"support\", min_threshold = 0.05)\n",
        "rules_all = association_rules(frequent_itemsets_all, metric = \"support\", min_threshold = 0.05)\n",
        "\n",
        "# Replace frozen sets with strings\n",
        "rules_ASD['antecedents'] = rules_ASD['antecedents'].apply(lambda a: ','.join(list(a)))\n",
        "rules_ASD['consequents'] = rules_ASD['consequents'].apply(lambda a: ','.join(list(a)))\n",
        "rules_NASD['antecedents'] = rules_NASD['antecedents'].apply(lambda a: ','.join(list(a)))\n",
        "rules_NASD['consequents'] = rules_NASD['consequents'].apply(lambda a: ','.join(list(a)))\n",
        "rules_all['antecedents'] = rules_all['antecedents'].apply(lambda a: ','.join(list(a)))\n",
        "rules_all['consequents'] = rules_all['consequents'].apply(lambda a: ','.join(list(a)))\n",
        "\n",
        "# Sort rules by confidence, then lift, then support in descending order\n",
        "rules_ASD = rules_ASD.sort_values(['confidence', 'lift', 'support'], ascending=[False, False, False])\n",
        "rules_NASD = rules_NASD.sort_values(['confidence', 'lift', 'support'], ascending=[False, False, False])\n",
        "rules_all = rules_all.sort_values(['confidence', 'lift', 'support'], ascending=[False, False, False])\n",
        "\n"
      ],
      "metadata": {
        "collapsed": true,
        "id": "_1ylhK3AsIAi"
      },
      "execution_count": null,
      "outputs": []
    },
    {
      "cell_type": "markdown",
      "source": [
        "Predictive (survival regression)\n"
      ],
      "metadata": {
        "id": "M2hM6bktZjX-"
      }
    },
    {
      "cell_type": "code",
      "source": [
        "#Install lifelines\n",
        "!pip install lifelines"
      ],
      "metadata": {
        "id": "aqKltBF_aLXa",
        "collapsed": true
      },
      "execution_count": null,
      "outputs": []
    },
    {
      "cell_type": "code",
      "source": [
        "#Import Python libraries\n",
        "from lifelines import KaplanMeierFitter\n",
        "import pandas as pd\n",
        "import seaborn as sns\n",
        "\n",
        "#Import data\n",
        "data = pd.read_csv('https://raw.githubusercontent.com/dennistay1981/Resources/refs/heads/main/Code%20and%20data%20in%20publications/Chapter%3A%20Data%20science%20approaches%20to%20metaphor%20and%20mental%20health/Predictive.csv')"
      ],
      "metadata": {
        "id": "cz-CMsQQUj9t"
      },
      "execution_count": null,
      "outputs": []
    },
    {
      "cell_type": "code",
      "source": [
        "\"\"\"\n",
        "Plot survival function by INITIATOR\n",
        "\"\"\"\n",
        "ax = plt.subplot(111)\n",
        "\n",
        "kmf_A = KaplanMeierFitter()\n",
        "ax = kmf_A.fit(durations=data.loc[data.Initiator =='T'].Turns,\n",
        "               event_observed=data.loc[data.Initiator =='T'].Attrition, label='Therapist').plot_survival_function(ax=ax)\n",
        "ax.hlines(0.5, 0, kmf_A.median_survival_time_ , linestyle='--', color='black')\n",
        "ax.vlines(kmf_A.median_survival_time_ , 0, 0.5, linestyle='--', color='black')\n",
        "\n",
        "\n",
        "kmf_B = KaplanMeierFitter()\n",
        "ax = kmf_B.fit(durations=data.loc[data.Initiator =='C'].Turns,\n",
        "               event_observed=data.loc[data.Initiator =='C'].Attrition, label='Client').plot_survival_function(ax=ax)\n",
        "\n",
        "ax.hlines(0.5, 0, kmf_B.median_survival_time_ , linestyle='--', color='black')\n",
        "ax.vlines(kmf_B.median_survival_time_, 0, 0.5, linestyle='--', color='black')\n",
        "\n",
        "plt.legend()\n",
        "plt.ylabel('Probability')\n",
        "plt.xlabel('Timeline (turns)')\n",
        "plt.xticks(range(0, 24))\n",
        "plt.title('Survival curve by INITIATOR')\n",
        "\n",
        "plt.xlim(0, plt.xlim()[1])\n",
        "plt.ylim(0, plt.ylim()[1])\n",
        "\n",
        "\n",
        "\n",
        "#to add risk counts table\n",
        "from lifelines.plotting import add_at_risk_counts\n",
        "add_at_risk_counts(kmf_A, kmf_B, ax=ax, fontsize=6)\n",
        "plt.tight_layout()\n",
        "plt.show()\n"
      ],
      "metadata": {
        "id": "r-6I1OJuZrjw"
      },
      "execution_count": null,
      "outputs": []
    },
    {
      "cell_type": "code",
      "source": [
        "\"\"\"\n",
        "Plot survival function by APPROACH\n",
        "\"\"\"\n",
        "ax = plt.subplot(111)\n",
        "\n",
        "kmf_A = KaplanMeierFitter()\n",
        "ax = kmf_A.fit(durations=df.loc[df.Approach =='CBT'].Turns,\n",
        "               event_observed=df.loc[df.Approach =='CBT'].Attrition, label='CBT').plot_survival_function(ax=ax)\n",
        "ax.hlines(0.5, 0, kmf_A.median_survival_time_ , linestyle='--', color='black')\n",
        "ax.vlines(kmf_A.median_survival_time_ , 0, 0.5, linestyle='--', color='black')\n",
        "\n",
        "\n",
        "kmf_B = KaplanMeierFitter()\n",
        "ax = kmf_B.fit(durations=df.loc[df.Approach =='PA'].Turns,\n",
        "               event_observed=df.loc[df.Approach =='PA'].Attrition, label='PA').plot_survival_function(ax=ax)\n",
        "ax.hlines(0.5, 0, kmf_B.median_survival_time_ , linestyle='--', color='black')\n",
        "ax.vlines(kmf_B.median_survival_time_ , 0, 0.5, linestyle='--', color='black')\n",
        "\n",
        "\n",
        "plt.legend()\n",
        "plt.ylabel('Probability')\n",
        "plt.xlabel('Timeline (turns)')\n",
        "plt.xticks(range(0, 24))\n",
        "plt.title('Survival curve by APPROACH')\n",
        "\n",
        "plt.xlim(0, plt.xlim()[1])\n",
        "plt.ylim(0, plt.ylim()[1])\n",
        "\n",
        "#to add risk counts table\n",
        "from lifelines.plotting import add_at_risk_counts\n",
        "add_at_risk_counts(kmf_A, kmf_B, ax=ax, fontsize=6)\n",
        "plt.tight_layout()\n",
        "plt.show()\n",
        "\n",
        "kmf.event_table"
      ],
      "metadata": {
        "id": "O1eTZsxWUcEH"
      },
      "execution_count": null,
      "outputs": []
    },
    {
      "cell_type": "code",
      "source": [
        "\"\"\"\n",
        "Fitting Cox's Proportional Hazards model\n",
        "\"\"\"\n",
        "#Fit the selected data to CoxPHFitter and specify survival duration and event columns.\n",
        "from lifelines import CoxPHFitter\n",
        "# Initialize and fit the model\n",
        "coxph = CoxPHFitter()\n",
        "coxph.fit(data, duration_col='Turns', event_col='Attrition', formula=\"Initiator + Approach\")\n",
        "coxph.print_summary()\n",
        "\n"
      ],
      "metadata": {
        "id": "6ELgUvORdv5H"
      },
      "execution_count": null,
      "outputs": []
    },
    {
      "cell_type": "code",
      "source": [
        "\"\"\"\n",
        "Exploring interaction effects with survival functions\n",
        "1. CBT vs. PA within therapists only\n",
        "\"\"\"\n",
        "\n",
        "ax = plt.subplot(111)\n",
        "\n",
        "kmf_A = KaplanMeierFitter()\n",
        "ax = kmf_A.fit(durations=data.loc[data.Initiator =='T'][data.Approach == 'CBT'].Turns,\n",
        "               event_observed=data.loc[data.Initiator =='T'][data.Approach == 'CBT'].Attrition, label='CBT Therapist').plot_survival_function(ax=ax)\n",
        "ax.hlines(0.5, 0, kmf_A.median_survival_time_ , linestyle='--', color='black')\n",
        "ax.vlines(kmf_A.median_survival_time_ , 0, 0.5, linestyle='--', color='black')\n",
        "\n",
        "\n",
        "kmf_B = KaplanMeierFitter()\n",
        "ax = kmf_B.fit(durations=data.loc[data.Initiator =='T'][data.Approach == 'PA'].Turns,\n",
        "               event_observed=data.loc[data.Initiator =='T'][data.Approach == 'PA'].Attrition, label='PA Therapist').plot_survival_function(ax=ax)\n",
        "\n",
        "ax.hlines(0.5, 0, kmf_B.median_survival_time_ , linestyle='--', color='black')\n",
        "ax.vlines(kmf_B.median_survival_time_, 0, 0.5, linestyle='--', color='black')\n",
        "\n",
        "plt.legend()\n",
        "plt.ylabel('Probability')\n",
        "plt.xlabel('Timeline (turns)')\n",
        "plt.xticks(range(0, 24))\n",
        "plt.title('CBT vs. PA (therapists only)')\n",
        "\n",
        "plt.xlim(0, plt.xlim()[1])\n",
        "plt.ylim(0, plt.ylim()[1])"
      ],
      "metadata": {
        "id": "nli2S_XjaWXx"
      },
      "execution_count": null,
      "outputs": []
    },
    {
      "cell_type": "code",
      "source": [
        "\"\"\"\n",
        "Exploring interaction effects with survival functions\n",
        "2. CBT vs. PA within clients only\n",
        "\"\"\"\n",
        "\n",
        "ax = plt.subplot(111)\n",
        "\n",
        "kmf_A = KaplanMeierFitter()\n",
        "ax = kmf_A.fit(durations=data.loc[data.Initiator =='C'][data.Approach == 'CBT'].Turns,\n",
        "               event_observed=data.loc[data.Initiator =='C'][data.Approach == 'CBT'].Attrition, label='CBT Client').plot_survival_function(ax=ax)\n",
        "ax.hlines(0.5, 0, kmf_A.median_survival_time_ , linestyle='--', color='black')\n",
        "ax.vlines(kmf_A.median_survival_time_ , 0, 0.5, linestyle='--', color='black')\n",
        "\n",
        "\n",
        "kmf_B = KaplanMeierFitter()\n",
        "ax = kmf_B.fit(durations=data.loc[data.Initiator =='C'][data.Approach == 'PA'].Turns,\n",
        "               event_observed=data.loc[data.Initiator =='C'][data.Approach == 'PA'].Attrition, label='PA Client').plot_survival_function(ax=ax)\n",
        "\n",
        "ax.hlines(0.5, 0, kmf_B.median_survival_time_ , linestyle='--', color='black')\n",
        "ax.vlines(kmf_B.median_survival_time_, 0, 0.5, linestyle='--', color='black')\n",
        "\n",
        "plt.legend()\n",
        "plt.ylabel('Probability')\n",
        "plt.xlabel('Timeline (turns)')\n",
        "plt.xticks(range(0, 24))\n",
        "plt.title('CBT vs. PA (clients only)')\n",
        "\n",
        "plt.xlim(0, plt.xlim()[1])\n",
        "plt.ylim(0, plt.ylim()[1])"
      ],
      "metadata": {
        "id": "IW5LhdNUWRRI"
      },
      "execution_count": null,
      "outputs": []
    },
    {
      "cell_type": "code",
      "source": [
        "\"\"\"\n",
        "Exploring interaction effects with survival functions\n",
        "3. Therapists vs. clients within CBT only\n",
        "\"\"\"\n",
        "\n",
        "ax = plt.subplot(111)\n",
        "\n",
        "kmf_A = KaplanMeierFitter()\n",
        "ax = kmf_A.fit(durations=data.loc[data.Initiator =='T'][data.Approach == 'CBT'].Turns,\n",
        "               event_observed=data.loc[data.Initiator =='T'][data.Approach == 'CBT'].Attrition, label='CBT Therapist').plot_survival_function(ax=ax)\n",
        "ax.hlines(0.5, 0, kmf_A.median_survival_time_ , linestyle='--', color='black')\n",
        "ax.vlines(kmf_A.median_survival_time_ , 0, 0.5, linestyle='--', color='black')\n",
        "\n",
        "\n",
        "kmf_B = KaplanMeierFitter()\n",
        "ax = kmf_B.fit(durations=data.loc[data.Initiator =='C'][data.Approach == 'CBT'].Turns,\n",
        "               event_observed=data.loc[data.Initiator =='C'][data.Approach == 'CBT'].Attrition, label='CBT Client').plot_survival_function(ax=ax)\n",
        "\n",
        "ax.hlines(0.5, 0, kmf_B.median_survival_time_ , linestyle='--', color='black')\n",
        "ax.vlines(kmf_B.median_survival_time_, 0, 0.5, linestyle='--', color='black')\n",
        "\n",
        "plt.legend()\n",
        "plt.ylabel('Probability')\n",
        "plt.xlabel('Timeline (turns)')\n",
        "plt.xticks(range(0, 24))\n",
        "plt.title('Therapists vs. clients (CBT only)')\n",
        "\n",
        "plt.xlim(0, plt.xlim()[1])\n",
        "plt.ylim(0, plt.ylim()[1])\n"
      ],
      "metadata": {
        "id": "Tqm15o0TU7PM"
      },
      "execution_count": null,
      "outputs": []
    },
    {
      "cell_type": "code",
      "source": [
        "\"\"\"\n",
        "Exploring interaction effects with survival functions\n",
        "4. Therapists vs. clients within PA only\n",
        "\"\"\"\n",
        "\n",
        "ax = plt.subplot(111)\n",
        "\n",
        "kmf_A = KaplanMeierFitter()\n",
        "ax = kmf_A.fit(durations=data.loc[data.Initiator =='T'][data.Approach == 'PA'].Turns,\n",
        "               event_observed=data.loc[data.Initiator =='T'][data.Approach == 'PA'].Attrition, label='PA Therapist').plot_survival_function(ax=ax)\n",
        "ax.hlines(0.5, 0, kmf_A.median_survival_time_ , linestyle='--', color='black')\n",
        "ax.vlines(kmf_A.median_survival_time_ , 0, 0.5, linestyle='--', color='black')\n",
        "\n",
        "\n",
        "kmf_B = KaplanMeierFitter()\n",
        "ax = kmf_B.fit(durations=data.loc[data.Initiator =='C'][data.Approach == 'PA'].Turns,\n",
        "               event_observed=data.loc[data.Initiator =='C'][data.Approach == 'PA'].Attrition, label='PA Client').plot_survival_function(ax=ax)\n",
        "\n",
        "ax.hlines(0.5, 0, kmf_B.median_survival_time_ , linestyle='--', color='black')\n",
        "ax.vlines(kmf_B.median_survival_time_, 0, 0.5, linestyle='--', color='black')\n",
        "\n",
        "plt.legend()\n",
        "plt.ylabel('Probability')\n",
        "plt.xlabel('Timeline (turns)')\n",
        "plt.xticks(range(0, 24))\n",
        "plt.title('Therapists vs. clients (PA only)')\n",
        "\n",
        "plt.xlim(0, plt.xlim()[1])\n",
        "plt.ylim(0, plt.ylim()[1])"
      ],
      "metadata": {
        "id": "O2PyIC8JWcWo"
      },
      "execution_count": null,
      "outputs": []
    }
  ]
}